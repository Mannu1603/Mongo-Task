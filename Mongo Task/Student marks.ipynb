{
  "cells": [
    {
      "cell_type": "markdown",
      "metadata": {
        "colab_type": "text",
        "id": "view-in-github"
      },
      "source": [
        "<a href=\"https://colab.research.google.com/github/Dtyagi12/MONGODB_TASK/blob/main/Student_JSON.ipynb\" target=\"_parent\"><img src=\"https://colab.research.google.com/assets/colab-badge.svg\" alt=\"Open In Colab\"/></a>"
      ]
    },
    {
      "cell_type": "code",
      "execution_count": 20,
      "metadata": {
        "colab": {
          "base_uri": "https://localhost:8080/"
        },
        "id": "2Wo26fE-yo2Q",
        "outputId": "379238c1-bcb3-408f-f235-2d1e40888953"
      },
      "outputs": [],
      "source": [
        "# !pip install dnspython\n",
        "# !pip install pymongo[srv]"
      ]
    },
    {
      "cell_type": "code",
      "execution_count": 21,
      "metadata": {
        "colab": {
          "base_uri": "https://localhost:8080/"
        },
        "id": "dSEICTt-oXuz",
        "outputId": "18c81577-ce27-4973-cc48-a719d177db33"
      },
      "outputs": [
        {
          "data": {
            "text/plain": [
              "200"
            ]
          },
          "execution_count": 21,
          "metadata": {},
          "output_type": "execute_result"
        }
      ],
      "source": [
        "import pymongo \n",
        "from pymongo import MongoClient\n",
        "\n",
        "client = pymongo.MongoClient(\"mongodb://localhost:27017/\")\n",
        "db = client.Student_data\n",
        "records=db.std\n",
        "records.count_documents({}) "
      ]
    },
    {
      "cell_type": "code",
      "execution_count": 22,
      "metadata": {
        "id": "JwusKAA-448Z"
      },
      "outputs": [
        {
          "ename": "DuplicateKeyError",
          "evalue": "E11000 duplicate key error collection: Student_data.std index: _id_ dup key: { _id: 0 }, full error: {'index': 0, 'code': 11000, 'keyPattern': {'_id': 1}, 'keyValue': {'_id': 0}, 'errmsg': 'E11000 duplicate key error collection: Student_data.std index: _id_ dup key: { _id: 0 }'}",
          "output_type": "error",
          "traceback": [
            "\u001b[1;31m---------------------------------------------------------------------------\u001b[0m",
            "\u001b[1;31mDuplicateKeyError\u001b[0m                         Traceback (most recent call last)",
            "\u001b[1;32m~\\AppData\\Local\\Temp\\ipykernel_14464\\3187251789.py\u001b[0m in \u001b[0;36m<cell line: 8>\u001b[1;34m()\u001b[0m\n\u001b[0;32m      7\u001b[0m \u001b[1;33m\u001b[0m\u001b[0m\n\u001b[0;32m      8\u001b[0m \u001b[1;32mfor\u001b[0m \u001b[0mi\u001b[0m \u001b[1;32min\u001b[0m \u001b[0mrange\u001b[0m\u001b[1;33m(\u001b[0m\u001b[0mlen\u001b[0m\u001b[1;33m(\u001b[0m\u001b[0mdata\u001b[0m\u001b[1;33m)\u001b[0m\u001b[1;33m)\u001b[0m\u001b[1;33m:\u001b[0m\u001b[1;33m\u001b[0m\u001b[1;33m\u001b[0m\u001b[0m\n\u001b[1;32m----> 9\u001b[1;33m   \u001b[0mrecords\u001b[0m\u001b[1;33m.\u001b[0m\u001b[0minsert_one\u001b[0m\u001b[1;33m(\u001b[0m\u001b[0mdata\u001b[0m\u001b[1;33m[\u001b[0m\u001b[0mi\u001b[0m\u001b[1;33m]\u001b[0m\u001b[1;33m)\u001b[0m\u001b[1;33m\u001b[0m\u001b[1;33m\u001b[0m\u001b[0m\n\u001b[0m",
            "\u001b[1;32mc:\\Python310\\lib\\site-packages\\pymongo\\collection.py\u001b[0m in \u001b[0;36minsert_one\u001b[1;34m(self, document, bypass_document_validation, session, comment)\u001b[0m\n\u001b[0;32m    619\u001b[0m         \u001b[0mwrite_concern\u001b[0m \u001b[1;33m=\u001b[0m \u001b[0mself\u001b[0m\u001b[1;33m.\u001b[0m\u001b[0m_write_concern_for\u001b[0m\u001b[1;33m(\u001b[0m\u001b[0msession\u001b[0m\u001b[1;33m)\u001b[0m\u001b[1;33m\u001b[0m\u001b[1;33m\u001b[0m\u001b[0m\n\u001b[0;32m    620\u001b[0m         return InsertOneResult(\n\u001b[1;32m--> 621\u001b[1;33m             self._insert_one(\n\u001b[0m\u001b[0;32m    622\u001b[0m                 \u001b[0mdocument\u001b[0m\u001b[1;33m,\u001b[0m\u001b[1;33m\u001b[0m\u001b[1;33m\u001b[0m\u001b[0m\n\u001b[0;32m    623\u001b[0m                 \u001b[0mordered\u001b[0m\u001b[1;33m=\u001b[0m\u001b[1;32mTrue\u001b[0m\u001b[1;33m,\u001b[0m\u001b[1;33m\u001b[0m\u001b[1;33m\u001b[0m\u001b[0m\n",
            "\u001b[1;32mc:\\Python310\\lib\\site-packages\\pymongo\\collection.py\u001b[0m in \u001b[0;36m_insert_one\u001b[1;34m(self, doc, ordered, write_concern, op_id, bypass_doc_val, session, comment)\u001b[0m\n\u001b[0;32m    560\u001b[0m             \u001b[0m_check_write_command_response\u001b[0m\u001b[1;33m(\u001b[0m\u001b[0mresult\u001b[0m\u001b[1;33m)\u001b[0m\u001b[1;33m\u001b[0m\u001b[1;33m\u001b[0m\u001b[0m\n\u001b[0;32m    561\u001b[0m \u001b[1;33m\u001b[0m\u001b[0m\n\u001b[1;32m--> 562\u001b[1;33m         \u001b[0mself\u001b[0m\u001b[1;33m.\u001b[0m\u001b[0m__database\u001b[0m\u001b[1;33m.\u001b[0m\u001b[0mclient\u001b[0m\u001b[1;33m.\u001b[0m\u001b[0m_retryable_write\u001b[0m\u001b[1;33m(\u001b[0m\u001b[0macknowledged\u001b[0m\u001b[1;33m,\u001b[0m \u001b[0m_insert_command\u001b[0m\u001b[1;33m,\u001b[0m \u001b[0msession\u001b[0m\u001b[1;33m)\u001b[0m\u001b[1;33m\u001b[0m\u001b[1;33m\u001b[0m\u001b[0m\n\u001b[0m\u001b[0;32m    563\u001b[0m \u001b[1;33m\u001b[0m\u001b[0m\n\u001b[0;32m    564\u001b[0m         \u001b[1;32mif\u001b[0m \u001b[1;32mnot\u001b[0m \u001b[0misinstance\u001b[0m\u001b[1;33m(\u001b[0m\u001b[0mdoc\u001b[0m\u001b[1;33m,\u001b[0m \u001b[0mRawBSONDocument\u001b[0m\u001b[1;33m)\u001b[0m\u001b[1;33m:\u001b[0m\u001b[1;33m\u001b[0m\u001b[1;33m\u001b[0m\u001b[0m\n",
            "\u001b[1;32mc:\\Python310\\lib\\site-packages\\pymongo\\mongo_client.py\u001b[0m in \u001b[0;36m_retryable_write\u001b[1;34m(self, retryable, func, session)\u001b[0m\n\u001b[0;32m   1446\u001b[0m         \u001b[1;34m\"\"\"Internal retryable write helper.\"\"\"\u001b[0m\u001b[1;33m\u001b[0m\u001b[1;33m\u001b[0m\u001b[0m\n\u001b[0;32m   1447\u001b[0m         \u001b[1;32mwith\u001b[0m \u001b[0mself\u001b[0m\u001b[1;33m.\u001b[0m\u001b[0m_tmp_session\u001b[0m\u001b[1;33m(\u001b[0m\u001b[0msession\u001b[0m\u001b[1;33m)\u001b[0m \u001b[1;32mas\u001b[0m \u001b[0ms\u001b[0m\u001b[1;33m:\u001b[0m\u001b[1;33m\u001b[0m\u001b[1;33m\u001b[0m\u001b[0m\n\u001b[1;32m-> 1448\u001b[1;33m             \u001b[1;32mreturn\u001b[0m \u001b[0mself\u001b[0m\u001b[1;33m.\u001b[0m\u001b[0m_retry_with_session\u001b[0m\u001b[1;33m(\u001b[0m\u001b[0mretryable\u001b[0m\u001b[1;33m,\u001b[0m \u001b[0mfunc\u001b[0m\u001b[1;33m,\u001b[0m \u001b[0ms\u001b[0m\u001b[1;33m,\u001b[0m \u001b[1;32mNone\u001b[0m\u001b[1;33m)\u001b[0m\u001b[1;33m\u001b[0m\u001b[1;33m\u001b[0m\u001b[0m\n\u001b[0m\u001b[0;32m   1449\u001b[0m \u001b[1;33m\u001b[0m\u001b[0m\n\u001b[0;32m   1450\u001b[0m     \u001b[1;32mdef\u001b[0m \u001b[0m__eq__\u001b[0m\u001b[1;33m(\u001b[0m\u001b[0mself\u001b[0m\u001b[1;33m,\u001b[0m \u001b[0mother\u001b[0m\u001b[1;33m:\u001b[0m \u001b[0mAny\u001b[0m\u001b[1;33m)\u001b[0m \u001b[1;33m->\u001b[0m \u001b[0mbool\u001b[0m\u001b[1;33m:\u001b[0m\u001b[1;33m\u001b[0m\u001b[1;33m\u001b[0m\u001b[0m\n",
            "\u001b[1;32mc:\\Python310\\lib\\site-packages\\pymongo\\mongo_client.py\u001b[0m in \u001b[0;36m_retry_with_session\u001b[1;34m(self, retryable, func, session, bulk)\u001b[0m\n\u001b[0;32m   1319\u001b[0m             \u001b[0mretryable\u001b[0m \u001b[1;32mand\u001b[0m \u001b[0mself\u001b[0m\u001b[1;33m.\u001b[0m\u001b[0moptions\u001b[0m\u001b[1;33m.\u001b[0m\u001b[0mretry_writes\u001b[0m \u001b[1;32mand\u001b[0m \u001b[0msession\u001b[0m \u001b[1;32mand\u001b[0m \u001b[1;32mnot\u001b[0m \u001b[0msession\u001b[0m\u001b[1;33m.\u001b[0m\u001b[0min_transaction\u001b[0m\u001b[1;33m\u001b[0m\u001b[1;33m\u001b[0m\u001b[0m\n\u001b[0;32m   1320\u001b[0m         )\n\u001b[1;32m-> 1321\u001b[1;33m         \u001b[1;32mreturn\u001b[0m \u001b[0mself\u001b[0m\u001b[1;33m.\u001b[0m\u001b[0m_retry_internal\u001b[0m\u001b[1;33m(\u001b[0m\u001b[0mretryable\u001b[0m\u001b[1;33m,\u001b[0m \u001b[0mfunc\u001b[0m\u001b[1;33m,\u001b[0m \u001b[0msession\u001b[0m\u001b[1;33m,\u001b[0m \u001b[0mbulk\u001b[0m\u001b[1;33m)\u001b[0m\u001b[1;33m\u001b[0m\u001b[1;33m\u001b[0m\u001b[0m\n\u001b[0m\u001b[0;32m   1322\u001b[0m \u001b[1;33m\u001b[0m\u001b[0m\n\u001b[0;32m   1323\u001b[0m     \u001b[1;33m@\u001b[0m\u001b[0m_csot\u001b[0m\u001b[1;33m.\u001b[0m\u001b[0mapply\u001b[0m\u001b[1;33m\u001b[0m\u001b[1;33m\u001b[0m\u001b[0m\n",
            "\u001b[1;32mc:\\Python310\\lib\\site-packages\\pymongo\\_csot.py\u001b[0m in \u001b[0;36mcsot_wrapper\u001b[1;34m(self, *args, **kwargs)\u001b[0m\n\u001b[0;32m    103\u001b[0m                 \u001b[1;32mwith\u001b[0m \u001b[0m_TimeoutContext\u001b[0m\u001b[1;33m(\u001b[0m\u001b[0mtimeout\u001b[0m\u001b[1;33m)\u001b[0m\u001b[1;33m:\u001b[0m\u001b[1;33m\u001b[0m\u001b[1;33m\u001b[0m\u001b[0m\n\u001b[0;32m    104\u001b[0m                     \u001b[1;32mreturn\u001b[0m \u001b[0mfunc\u001b[0m\u001b[1;33m(\u001b[0m\u001b[0mself\u001b[0m\u001b[1;33m,\u001b[0m \u001b[1;33m*\u001b[0m\u001b[0margs\u001b[0m\u001b[1;33m,\u001b[0m \u001b[1;33m**\u001b[0m\u001b[0mkwargs\u001b[0m\u001b[1;33m)\u001b[0m\u001b[1;33m\u001b[0m\u001b[1;33m\u001b[0m\u001b[0m\n\u001b[1;32m--> 105\u001b[1;33m         \u001b[1;32mreturn\u001b[0m \u001b[0mfunc\u001b[0m\u001b[1;33m(\u001b[0m\u001b[0mself\u001b[0m\u001b[1;33m,\u001b[0m \u001b[1;33m*\u001b[0m\u001b[0margs\u001b[0m\u001b[1;33m,\u001b[0m \u001b[1;33m**\u001b[0m\u001b[0mkwargs\u001b[0m\u001b[1;33m)\u001b[0m\u001b[1;33m\u001b[0m\u001b[1;33m\u001b[0m\u001b[0m\n\u001b[0m\u001b[0;32m    106\u001b[0m \u001b[1;33m\u001b[0m\u001b[0m\n\u001b[0;32m    107\u001b[0m     \u001b[1;32mreturn\u001b[0m \u001b[0mcast\u001b[0m\u001b[1;33m(\u001b[0m\u001b[0mF\u001b[0m\u001b[1;33m,\u001b[0m \u001b[0mcsot_wrapper\u001b[0m\u001b[1;33m)\u001b[0m\u001b[1;33m\u001b[0m\u001b[1;33m\u001b[0m\u001b[0m\n",
            "\u001b[1;32mc:\\Python310\\lib\\site-packages\\pymongo\\mongo_client.py\u001b[0m in \u001b[0;36m_retry_internal\u001b[1;34m(self, retryable, func, session, bulk)\u001b[0m\n\u001b[0;32m   1360\u001b[0m                             \u001b[1;32mraise\u001b[0m \u001b[0mlast_error\u001b[0m\u001b[1;33m\u001b[0m\u001b[1;33m\u001b[0m\u001b[0m\n\u001b[0;32m   1361\u001b[0m                         \u001b[0mretryable\u001b[0m \u001b[1;33m=\u001b[0m \u001b[1;32mFalse\u001b[0m\u001b[1;33m\u001b[0m\u001b[1;33m\u001b[0m\u001b[0m\n\u001b[1;32m-> 1362\u001b[1;33m                     \u001b[1;32mreturn\u001b[0m \u001b[0mfunc\u001b[0m\u001b[1;33m(\u001b[0m\u001b[0msession\u001b[0m\u001b[1;33m,\u001b[0m \u001b[0msock_info\u001b[0m\u001b[1;33m,\u001b[0m \u001b[0mretryable\u001b[0m\u001b[1;33m)\u001b[0m\u001b[1;33m\u001b[0m\u001b[1;33m\u001b[0m\u001b[0m\n\u001b[0m\u001b[0;32m   1363\u001b[0m             \u001b[1;32mexcept\u001b[0m \u001b[0mServerSelectionTimeoutError\u001b[0m\u001b[1;33m:\u001b[0m\u001b[1;33m\u001b[0m\u001b[1;33m\u001b[0m\u001b[0m\n\u001b[0;32m   1364\u001b[0m                 \u001b[1;32mif\u001b[0m \u001b[0mis_retrying\u001b[0m\u001b[1;33m(\u001b[0m\u001b[1;33m)\u001b[0m\u001b[1;33m:\u001b[0m\u001b[1;33m\u001b[0m\u001b[1;33m\u001b[0m\u001b[0m\n",
            "\u001b[1;32mc:\\Python310\\lib\\site-packages\\pymongo\\collection.py\u001b[0m in \u001b[0;36m_insert_command\u001b[1;34m(session, sock_info, retryable_write)\u001b[0m\n\u001b[0;32m    558\u001b[0m             )\n\u001b[0;32m    559\u001b[0m \u001b[1;33m\u001b[0m\u001b[0m\n\u001b[1;32m--> 560\u001b[1;33m             \u001b[0m_check_write_command_response\u001b[0m\u001b[1;33m(\u001b[0m\u001b[0mresult\u001b[0m\u001b[1;33m)\u001b[0m\u001b[1;33m\u001b[0m\u001b[1;33m\u001b[0m\u001b[0m\n\u001b[0m\u001b[0;32m    561\u001b[0m \u001b[1;33m\u001b[0m\u001b[0m\n\u001b[0;32m    562\u001b[0m         \u001b[0mself\u001b[0m\u001b[1;33m.\u001b[0m\u001b[0m__database\u001b[0m\u001b[1;33m.\u001b[0m\u001b[0mclient\u001b[0m\u001b[1;33m.\u001b[0m\u001b[0m_retryable_write\u001b[0m\u001b[1;33m(\u001b[0m\u001b[0macknowledged\u001b[0m\u001b[1;33m,\u001b[0m \u001b[0m_insert_command\u001b[0m\u001b[1;33m,\u001b[0m \u001b[0msession\u001b[0m\u001b[1;33m)\u001b[0m\u001b[1;33m\u001b[0m\u001b[1;33m\u001b[0m\u001b[0m\n",
            "\u001b[1;32mc:\\Python310\\lib\\site-packages\\pymongo\\helpers.py\u001b[0m in \u001b[0;36m_check_write_command_response\u001b[1;34m(result)\u001b[0m\n\u001b[0;32m    215\u001b[0m     \u001b[0mwrite_errors\u001b[0m \u001b[1;33m=\u001b[0m \u001b[0mresult\u001b[0m\u001b[1;33m.\u001b[0m\u001b[0mget\u001b[0m\u001b[1;33m(\u001b[0m\u001b[1;34m\"writeErrors\"\u001b[0m\u001b[1;33m)\u001b[0m\u001b[1;33m\u001b[0m\u001b[1;33m\u001b[0m\u001b[0m\n\u001b[0;32m    216\u001b[0m     \u001b[1;32mif\u001b[0m \u001b[0mwrite_errors\u001b[0m\u001b[1;33m:\u001b[0m\u001b[1;33m\u001b[0m\u001b[1;33m\u001b[0m\u001b[0m\n\u001b[1;32m--> 217\u001b[1;33m         \u001b[0m_raise_last_write_error\u001b[0m\u001b[1;33m(\u001b[0m\u001b[0mwrite_errors\u001b[0m\u001b[1;33m)\u001b[0m\u001b[1;33m\u001b[0m\u001b[1;33m\u001b[0m\u001b[0m\n\u001b[0m\u001b[0;32m    218\u001b[0m \u001b[1;33m\u001b[0m\u001b[0m\n\u001b[0;32m    219\u001b[0m     \u001b[0mwce\u001b[0m \u001b[1;33m=\u001b[0m \u001b[0m_get_wce_doc\u001b[0m\u001b[1;33m(\u001b[0m\u001b[0mresult\u001b[0m\u001b[1;33m)\u001b[0m\u001b[1;33m\u001b[0m\u001b[1;33m\u001b[0m\u001b[0m\n",
            "\u001b[1;32mc:\\Python310\\lib\\site-packages\\pymongo\\helpers.py\u001b[0m in \u001b[0;36m_raise_last_write_error\u001b[1;34m(write_errors)\u001b[0m\n\u001b[0;32m    187\u001b[0m     \u001b[0merror\u001b[0m \u001b[1;33m=\u001b[0m \u001b[0mwrite_errors\u001b[0m\u001b[1;33m[\u001b[0m\u001b[1;33m-\u001b[0m\u001b[1;36m1\u001b[0m\u001b[1;33m]\u001b[0m\u001b[1;33m\u001b[0m\u001b[1;33m\u001b[0m\u001b[0m\n\u001b[0;32m    188\u001b[0m     \u001b[1;32mif\u001b[0m \u001b[0merror\u001b[0m\u001b[1;33m.\u001b[0m\u001b[0mget\u001b[0m\u001b[1;33m(\u001b[0m\u001b[1;34m\"code\"\u001b[0m\u001b[1;33m)\u001b[0m \u001b[1;33m==\u001b[0m \u001b[1;36m11000\u001b[0m\u001b[1;33m:\u001b[0m\u001b[1;33m\u001b[0m\u001b[1;33m\u001b[0m\u001b[0m\n\u001b[1;32m--> 189\u001b[1;33m         \u001b[1;32mraise\u001b[0m \u001b[0mDuplicateKeyError\u001b[0m\u001b[1;33m(\u001b[0m\u001b[0merror\u001b[0m\u001b[1;33m.\u001b[0m\u001b[0mget\u001b[0m\u001b[1;33m(\u001b[0m\u001b[1;34m\"errmsg\"\u001b[0m\u001b[1;33m)\u001b[0m\u001b[1;33m,\u001b[0m \u001b[1;36m11000\u001b[0m\u001b[1;33m,\u001b[0m \u001b[0merror\u001b[0m\u001b[1;33m)\u001b[0m\u001b[1;33m\u001b[0m\u001b[1;33m\u001b[0m\u001b[0m\n\u001b[0m\u001b[0;32m    190\u001b[0m     \u001b[1;32mraise\u001b[0m \u001b[0mWriteError\u001b[0m\u001b[1;33m(\u001b[0m\u001b[0merror\u001b[0m\u001b[1;33m.\u001b[0m\u001b[0mget\u001b[0m\u001b[1;33m(\u001b[0m\u001b[1;34m\"errmsg\"\u001b[0m\u001b[1;33m)\u001b[0m\u001b[1;33m,\u001b[0m \u001b[0merror\u001b[0m\u001b[1;33m.\u001b[0m\u001b[0mget\u001b[0m\u001b[1;33m(\u001b[0m\u001b[1;34m\"code\"\u001b[0m\u001b[1;33m)\u001b[0m\u001b[1;33m,\u001b[0m \u001b[0merror\u001b[0m\u001b[1;33m)\u001b[0m\u001b[1;33m\u001b[0m\u001b[1;33m\u001b[0m\u001b[0m\n\u001b[0;32m    191\u001b[0m \u001b[1;33m\u001b[0m\u001b[0m\n",
            "\u001b[1;31mDuplicateKeyError\u001b[0m: E11000 duplicate key error collection: Student_data.std index: _id_ dup key: { _id: 0 }, full error: {'index': 0, 'code': 11000, 'keyPattern': {'_id': 1}, 'keyValue': {'_id': 0}, 'errmsg': 'E11000 duplicate key error collection: Student_data.std index: _id_ dup key: { _id: 0 }'}"
          ]
        }
      ],
      "source": [
        "# add json file data to MongoDB \"Student_data\" database\n",
        "\n",
        "import json\n",
        "data = []\n",
        "for line in open('students.json', 'r'):\n",
        "  data.append(json.loads(line))\n",
        "\n",
        "for i in range(len(data)):\n",
        "  records.insert_one(data[i])"
      ]
    },
    {
      "cell_type": "markdown",
      "metadata": {
        "id": "eOoQuXo__ABE"
      },
      "source": [
        "1). The student name who scored maximum scores in all (exam, quiz and homework)?"
      ]
    },
    {
      "cell_type": "code",
      "execution_count": null,
      "metadata": {
        "colab": {
          "base_uri": "https://localhost:8080/"
        },
        "id": "4lpaZA1r3SR3",
        "outputId": "7f88be2f-108d-4492-9972-1def91a8d5a0"
      },
      "outputs": [
        {
          "name": "stdout",
          "output_type": "stream",
          "text": [
            "Details of Student who scored maximum in EXAM: \n",
            "================================================\n",
            "{'_id': 136, 'name': 'Margart Vitello'}\n",
            "Marks obtained:  99.33685767140612\n"
          ]
        }
      ],
      "source": [
        "# (1). IN EXAM\n",
        "\n",
        "li=[]\n",
        "exam_dict=dict()\n",
        "\n",
        "i=0\n",
        "for x in records.find({'scores.type':'exam'},{'scores.score':1}):\n",
        "  exam_dict[i]=(x['scores'][0])\n",
        "  i+=1\n",
        "for i in exam_dict.values():\n",
        "  temp=i['score']\n",
        "  li.append(temp)\n",
        "\n",
        "A= max(li)\n",
        "\n",
        "for j in records.find({\"scores.score\": A}, {\"_id\":1, \"name\": 1}):\n",
        "  print(\"Details of Student who scored maximum in EXAM: \")\n",
        "  print(\"================================================\")\n",
        "  print(j)\n",
        "\n",
        "print(\"Marks obtained: \",A)"
      ]
    },
    {
      "cell_type": "code",
      "execution_count": null,
      "metadata": {
        "colab": {
          "base_uri": "https://localhost:8080/"
        },
        "id": "533eySSuAKiU",
        "outputId": "40a1c074-4e4b-4824-d93f-996fad8feae2"
      },
      "outputs": [
        {
          "name": "stdout",
          "output_type": "stream",
          "text": [
            "Details of Student who scored maximum in QUIZ: \n",
            "================================================\n",
            "{'_id': 69, 'name': 'Cody Strouth'}\n",
            "Marks Obtained:  99.80348240553108\n"
          ]
        }
      ],
      "source": [
        "# (2). IN QUIZ\n",
        "\n",
        "li1=[]\n",
        "quiz_dict=dict()\n",
        "\n",
        "i=0\n",
        "for x in records.find({'scores.type':'exam'},{'scores.score':1}):\n",
        "  quiz_dict[i]=(x['scores'][1])\n",
        "  i+=1\n",
        "for i in quiz_dict.values():\n",
        "  temp=i['score']\n",
        "  li1.append(temp)\n",
        "  \n",
        "B= max(li1)\n",
        "\n",
        "for j in records.find({\"scores.score\": B}, {\"_id\":1, \"name\": 1}):\n",
        "  print(\"Details of Student who scored maximum in QUIZ: \")\n",
        "  print(\"================================================\")\n",
        "  print(j)\n",
        "\n",
        "print(\"Marks Obtained: \", B)"
      ]
    },
    {
      "cell_type": "code",
      "execution_count": null,
      "metadata": {
        "colab": {
          "base_uri": "https://localhost:8080/"
        },
        "id": "aDjU8oYGBJiA",
        "outputId": "c4a95164-6e1b-42b8-d2a6-dae26eeee7ee"
      },
      "outputs": [
        {
          "name": "stdout",
          "output_type": "stream",
          "text": [
            "Details of Student who scored maximum in HW: \n",
            "================================================\n",
            "{'_id': 178, 'name': 'Whitley Fears'}\n",
            "Marks Obtained:  99.77237745070993\n"
          ]
        }
      ],
      "source": [
        "# (2). IN HOMEWORK\n",
        "\n",
        "li2=[]\n",
        "hw_dict=dict()\n",
        "\n",
        "i=0\n",
        "for x in records.find({'scores.type':'exam'},{'scores.score':1}):\n",
        "  hw_dict[i]=(x['scores'][2])\n",
        "  i+=1\n",
        "for i in hw_dict.values():\n",
        "  temp=i['score']\n",
        "  li2.append(temp)\n",
        "  \n",
        "C= max(li2)\n",
        "\n",
        "for j in records.find({\"scores.score\": C}, {\"_id\":1, \"name\": 1}):\n",
        "  print(\"Details of Student who scored maximum in HW: \")\n",
        "  print(\"================================================\")\n",
        "  print(j)\n",
        "\n",
        "print(\"Marks Obtained: \", C)"
      ]
    },
    {
      "cell_type": "markdown",
      "metadata": {
        "id": "3vLVIDPMEU8i"
      },
      "source": [
        "2). Find students who scored below average in the exam and pass mark is 40%?"
      ]
    },
    {
      "cell_type": "code",
      "execution_count": null,
      "metadata": {
        "colab": {
          "base_uri": "https://localhost:8080/"
        },
        "id": "x6oLifsFEcgl",
        "outputId": "44a6243d-0250-4d9a-bfb5-d9a76e363e03"
      },
      "outputs": [
        {
          "name": "stdout",
          "output_type": "stream",
          "text": [
            "_id: 0 ; name: aimee Zank\n",
            "_id: 6 ; name: Jenette Flanders\n",
            "_id: 8 ; name: Daphne Zheng\n",
            "_id: 14 ; name: Alix Sherrill\n",
            "_id: 16 ; name: Dodie Staller\n",
            "_id: 17 ; name: Fletcher Mcconnell\n",
            "_id: 26 ; name: Jonie Raby\n",
            "_id: 27 ; name: Edgar Sarkis\n",
            "_id: 28 ; name: Laureen Salomone\n",
            "_id: 30 ; name: Kaila Deibler\n",
            "_id: 31 ; name: Tandra Meadows\n",
            "_id: 34 ; name: Carli Belvins\n",
            "_id: 35 ; name: Synthia Labelle\n",
            "_id: 38 ; name: Richelle Siemers\n",
            "_id: 39 ; name: Mariette Batdorf\n",
            "_id: 41 ; name: Aleida Elsass\n",
            "_id: 43 ; name: Ernestine Macfarland\n",
            "_id: 46 ; name: Lady Lefevers\n",
            "_id: 48 ; name: Barbera Lippman\n",
            "_id: 50 ; name: Alica Pasley\n",
            "_id: 53 ; name: Malisa Jeanes\n",
            "_id: 56 ; name: Danika Loeffler\n",
            "_id: 58 ; name: Joaquina Arbuckle\n",
            "_id: 60 ; name: Dusti Lemmond\n",
            "_id: 63 ; name: Rubie Winton\n",
            "_id: 66 ; name: Kim Xu\n",
            "_id: 69 ; name: Cody Strouth\n",
            "_id: 70 ; name: Harriett Velarde\n",
            "_id: 74 ; name: Leola Lundin\n",
            "_id: 78 ; name: Len Treiber\n",
            "_id: 80 ; name: Echo Pippins\n",
            "_id: 82 ; name: Santiago Dollins\n",
            "_id: 83 ; name: Tonisha Games\n",
            "_id: 86 ; name: Brain Lachapelle\n",
            "_id: 87 ; name: Toshiko Sabella\n",
            "_id: 91 ; name: Ty Barbieri\n",
            "_id: 92 ; name: Ta Sikorski\n",
            "_id: 93 ; name: Lucinda Vanderburg\n",
            "_id: 94 ; name: Darby Wass\n",
            "_id: 95 ; name: Omar Bowdoin\n",
            "_id: 101 ; name: Tania Hulett\n",
            "_id: 106 ; name: Karry Petrarca\n",
            "_id: 114 ; name: aimee Zank\n",
            "_id: 115 ; name: Aurelia Menendez\n",
            "_id: 117 ; name: Bao Ziglar\n",
            "_id: 120 ; name: Jenette Flanders\n",
            "_id: 121 ; name: Salena Olmos\n",
            "_id: 123 ; name: Sanda Ryba\n",
            "_id: 124 ; name: Denisha Cast\n",
            "_id: 131 ; name: Fletcher Mcconnell\n",
            "_id: 132 ; name: Verdell Sowinski\n",
            "_id: 133 ; name: Gisela Levin\n",
            "_id: 135 ; name: Rosana Vales\n",
            "_id: 137 ; name: Tamika Schildgen\n",
            "_id: 138 ; name: Jesusa Rickenbacker\n",
            "_id: 139 ; name: Rudolph Domingo\n",
            "_id: 140 ; name: Jonie Raby\n",
            "_id: 144 ; name: Kaila Deibler\n",
            "_id: 145 ; name: Tandra Meadows\n",
            "_id: 146 ; name: Gwen Honig\n",
            "_id: 147 ; name: Sadie Jernigan\n",
            "_id: 149 ; name: Synthia Labelle\n",
            "_id: 157 ; name: Ernestine Macfarland\n",
            "_id: 161 ; name: Kurtis Jiles\n",
            "_id: 162 ; name: Barbera Lippman\n",
            "_id: 163 ; name: Dinah Sauve\n",
            "_id: 165 ; name: Elizabet Kleine\n",
            "_id: 168 ; name: Joel Rueter\n",
            "_id: 172 ; name: Joaquina Arbuckle\n",
            "_id: 175 ; name: Grady Zemke\n",
            "_id: 177 ; name: Rubie Winton\n",
            "_id: 178 ; name: Whitley Fears\n",
            "_id: 180 ; name: Kim Xu\n",
            "_id: 181 ; name: Merissa Mann\n",
            "_id: 183 ; name: Cody Strouth\n",
            "_id: 186 ; name: Leonida Lafond\n",
            "_id: 187 ; name: Devorah Smartt\n",
            "_id: 192 ; name: Len Treiber\n",
            "_id: 194 ; name: Echo Pippins\n",
            "_id: 197 ; name: Tonisha Games\n",
            "_id: 198 ; name: Timothy Harrod\n"
          ]
        }
      ],
      "source": [
        "# in EXAM\n",
        "\n",
        "for x in records.find({'scores.type':'exam'},{'_id':1, 'name':1,'scores.score':1}):\n",
        "  y=(x['scores'][0])\n",
        "  if y['score']<40:\n",
        "    print(\"_id:\",x['_id'],\";\",\"name:\",x['name'])"
      ]
    },
    {
      "cell_type": "code",
      "execution_count": null,
      "metadata": {
        "colab": {
          "base_uri": "https://localhost:8080/"
        },
        "id": "7Vgq3z0eGqr5",
        "outputId": "5a7c3168-435b-4620-f5ac-e6b9cc48e3b7"
      },
      "outputs": [
        {
          "name": "stdout",
          "output_type": "stream",
          "text": [
            "_id: 0 ; name: aimee Zank\n",
            "_id: 2 ; name: Corliss Zuk\n",
            "_id: 3 ; name: Bao Ziglar\n",
            "_id: 5 ; name: Wilburn Spiess\n",
            "_id: 6 ; name: Jenette Flanders\n",
            "_id: 8 ; name: Daphne Zheng\n",
            "_id: 15 ; name: Tambra Mercure\n",
            "_id: 16 ; name: Dodie Staller\n",
            "_id: 19 ; name: Gisela Levin\n",
            "_id: 22 ; name: Margart Vitello\n",
            "_id: 24 ; name: Jesusa Rickenbacker\n",
            "_id: 25 ; name: Rudolph Domingo\n",
            "_id: 28 ; name: Laureen Salomone\n",
            "_id: 29 ; name: Gwyneth Garling\n",
            "_id: 31 ; name: Tandra Meadows\n",
            "_id: 33 ; name: Sadie Jernigan\n",
            "_id: 35 ; name: Synthia Labelle\n",
            "_id: 40 ; name: Rachell Aman\n",
            "_id: 42 ; name: Kayce Kenyon\n",
            "_id: 44 ; name: Houston Valenti\n",
            "_id: 47 ; name: Kurtis Jiles\n",
            "_id: 49 ; name: Dinah Sauve\n",
            "_id: 51 ; name: Elizabet Kleine\n",
            "_id: 53 ; name: Malisa Jeanes\n",
            "_id: 57 ; name: Chad Rahe\n",
            "_id: 59 ; name: Vinnie Auerbach\n",
            "_id: 62 ; name: Vina Matsunaga\n",
            "_id: 66 ; name: Kim Xu\n",
            "_id: 71 ; name: Kam Senters\n",
            "_id: 72 ; name: Leonida Lafond\n",
            "_id: 73 ; name: Devorah Smartt\n",
            "_id: 76 ; name: Adrien Renda\n",
            "_id: 77 ; name: Efrain Claw\n",
            "_id: 78 ; name: Len Treiber\n",
            "_id: 83 ; name: Tonisha Games\n",
            "_id: 87 ; name: Toshiko Sabella\n",
            "_id: 88 ; name: Keesha Papadopoulos\n",
            "_id: 89 ; name: Cassi Heal\n",
            "_id: 92 ; name: Ta Sikorski\n",
            "_id: 93 ; name: Lucinda Vanderburg\n",
            "_id: 96 ; name: Milan Mcgavock\n",
            "_id: 103 ; name: Fleta Duplantis\n",
            "_id: 107 ; name: Beckie Millington\n",
            "_id: 112 ; name: Myrtle Wolfinger\n",
            "_id: 113 ; name: \n",
            "_id: 115 ; name: Aurelia Menendez\n",
            "_id: 120 ; name: Jenette Flanders\n",
            "_id: 122 ; name: Daphne Zheng\n",
            "_id: 123 ; name: Sanda Ryba\n",
            "_id: 124 ; name: Denisha Cast\n",
            "_id: 125 ; name: Marcus Blohm\n",
            "_id: 128 ; name: Alix Sherrill\n",
            "_id: 134 ; name: Tressa Schwing\n",
            "_id: 135 ; name: Rosana Vales\n",
            "_id: 136 ; name: Margart Vitello\n",
            "_id: 138 ; name: Jesusa Rickenbacker\n",
            "_id: 139 ; name: Rudolph Domingo\n",
            "_id: 140 ; name: Jonie Raby\n",
            "_id: 142 ; name: Laureen Salomone\n",
            "_id: 143 ; name: Gwyneth Garling\n",
            "_id: 145 ; name: Tandra Meadows\n",
            "_id: 148 ; name: Carli Belvins\n",
            "_id: 150 ; name: Eugene Magdaleno\n",
            "_id: 151 ; name: Meagan Oakes\n",
            "_id: 152 ; name: Richelle Siemers\n",
            "_id: 153 ; name: Mariette Batdorf\n",
            "_id: 154 ; name: Rachell Aman\n",
            "_id: 156 ; name: Kayce Kenyon\n",
            "_id: 158 ; name: Houston Valenti\n",
            "_id: 160 ; name: Lady Lefevers\n",
            "_id: 163 ; name: Dinah Sauve\n",
            "_id: 168 ; name: Joel Rueter\n",
            "_id: 170 ; name: Danika Loeffler\n",
            "_id: 171 ; name: Chad Rahe\n",
            "_id: 173 ; name: Vinnie Auerbach\n",
            "_id: 175 ; name: Grady Zemke\n",
            "_id: 176 ; name: Vina Matsunaga\n",
            "_id: 179 ; name: Gena Riccio\n",
            "_id: 181 ; name: Merissa Mann\n",
            "_id: 186 ; name: Leonida Lafond\n",
            "_id: 187 ; name: Devorah Smartt\n",
            "_id: 189 ; name: Tonia Surace\n",
            "_id: 194 ; name: Echo Pippins\n",
            "_id: 196 ; name: Santiago Dollins\n",
            "_id: 197 ; name: Tonisha Games\n",
            "_id: 198 ; name: Timothy Harrod\n"
          ]
        }
      ],
      "source": [
        "# in QUIZ\n",
        "\n",
        "for x in records.find({'scores.type':'exam'},{'_id':1, 'name':1,'scores.score':1}):\n",
        "  y=(x['scores'][1])\n",
        "  if y['score']<40:\n",
        "    print(\"_id:\",x['_id'],\";\",\"name:\",x['name'])"
      ]
    },
    {
      "cell_type": "code",
      "execution_count": null,
      "metadata": {
        "colab": {
          "base_uri": "https://localhost:8080/"
        },
        "id": "hog8p68wHDtI",
        "outputId": "bb8832eb-d9d8-4578-dd08-fadcad9c3029"
      },
      "outputs": [
        {
          "name": "stdout",
          "output_type": "stream",
          "text": [
            "_id: 0 ; name: aimee Zank\n",
            "_id: 4 ; name: Zachary Langlais\n",
            "_id: 9 ; name: Sanda Ryba\n",
            "_id: 14 ; name: Alix Sherrill\n",
            "_id: 21 ; name: Rosana Vales\n",
            "_id: 25 ; name: Rudolph Domingo\n",
            "_id: 27 ; name: Edgar Sarkis\n",
            "_id: 37 ; name: Meagan Oakes\n",
            "_id: 43 ; name: Ernestine Macfarland\n",
            "_id: 44 ; name: Houston Valenti\n",
            "_id: 45 ; name: Terica Brugger\n",
            "_id: 47 ; name: Kurtis Jiles\n",
            "_id: 59 ; name: Vinnie Auerbach\n",
            "_id: 63 ; name: Rubie Winton\n",
            "_id: 81 ; name: Linnie Weigel\n",
            "_id: 95 ; name: Omar Bowdoin\n",
            "_id: 96 ; name: Milan Mcgavock\n",
            "_id: 100 ; name: Demarcus Audette\n",
            "_id: 106 ; name: Karry Petrarca\n",
            "_id: 107 ; name: Beckie Millington\n",
            "_id: 114 ; name: aimee Zank\n",
            "_id: 128 ; name: Alix Sherrill\n",
            "_id: 131 ; name: Fletcher Mcconnell\n",
            "_id: 133 ; name: Gisela Levin\n",
            "_id: 150 ; name: Eugene Magdaleno\n",
            "_id: 155 ; name: Aleida Elsass\n",
            "_id: 164 ; name: Alica Pasley\n",
            "_id: 195 ; name: Linnie Weigel\n",
            "_id: 199 ; name: Rae Kohout\n"
          ]
        }
      ],
      "source": [
        "# in HOMEWORK\n",
        "\n",
        "for x in records.find({'scores.type':'exam'},{'_id':1, 'name':1,'scores.score':1}):\n",
        "  y=(x['scores'][2])\n",
        "  if y['score']<40:\n",
        "    print(\"_id:\",x['_id'],\";\",\"name:\",x['name'])"
      ]
    },
    {
      "cell_type": "markdown",
      "metadata": {
        "id": "KIHj8MOIH5yh"
      },
      "source": [
        "3). students who scored below pass mark and assigned them as fail, and above pass mark as pass in all the categories."
      ]
    },
    {
      "cell_type": "code",
      "execution_count": null,
      "metadata": {
        "colab": {
          "base_uri": "https://localhost:8080/"
        },
        "id": "uQGsCjQ5ICeE",
        "outputId": "56856af7-e842-41d9-9b98-476ed44869b8"
      },
      "outputs": [
        {
          "name": "stdout",
          "output_type": "stream",
          "text": [
            "{'_id': 0, 'name': 'aimee Zank'}\n"
          ]
        }
      ],
      "source": [
        "# scored below pass in all category\n",
        "A= records.find({\"scores.0.score\": {\"$lt\": 40}, \"scores.1.score\": {\"$lt\": 40}, \"scores.2.score\": {\"$lt\": 40}}, {\"_id\": 1, \"name\":1})\n",
        "for i in A:\n",
        "  print(i)"
      ]
    },
    {
      "cell_type": "code",
      "execution_count": null,
      "metadata": {
        "colab": {
          "base_uri": "https://localhost:8080/"
        },
        "id": "lCBDcuVdkLex",
        "outputId": "17f02fb0-e2d4-4c16-ae51-897819c270a0"
      },
      "outputs": [
        {
          "name": "stdout",
          "output_type": "stream",
          "text": [
            "{'_id': 1, 'name': 'Aurelia Menendez'}\n",
            "{'_id': 7, 'name': 'Salena Olmos'}\n",
            "{'_id': 10, 'name': 'Denisha Cast'}\n",
            "{'_id': 11, 'name': 'Marcus Blohm'}\n",
            "{'_id': 12, 'name': 'Quincy Danaher'}\n",
            "{'_id': 13, 'name': 'Jessika Dagenais'}\n",
            "{'_id': 18, 'name': 'Verdell Sowinski'}\n",
            "{'_id': 20, 'name': 'Tressa Schwing'}\n",
            "{'_id': 23, 'name': 'Tamika Schildgen'}\n",
            "{'_id': 32, 'name': 'Gwen Honig'}\n",
            "{'_id': 36, 'name': 'Eugene Magdaleno'}\n",
            "{'_id': 52, 'name': 'Tawana Oberg'}\n",
            "{'_id': 54, 'name': 'Joel Rueter'}\n",
            "{'_id': 55, 'name': 'Tresa Sinha'}\n",
            "{'_id': 61, 'name': 'Grady Zemke'}\n",
            "{'_id': 64, 'name': 'Whitley Fears'}\n",
            "{'_id': 65, 'name': 'Gena Riccio'}\n",
            "{'_id': 67, 'name': 'Merissa Mann'}\n",
            "{'_id': 68, 'name': 'Jenise Mcguffie'}\n",
            "{'_id': 75, 'name': 'Tonia Surace'}\n",
            "{'_id': 79, 'name': 'Mariela Sherer'}\n",
            "{'_id': 84, 'name': 'Timothy Harrod'}\n",
            "{'_id': 85, 'name': 'Rae Kohout'}\n",
            "{'_id': 90, 'name': 'Osvaldo Hirt'}\n",
            "{'_id': 97, 'name': 'Maren Scheider'}\n",
            "{'_id': 98, 'name': 'Carli Ector'}\n",
            "{'_id': 99, 'name': 'Jaclyn Morado'}\n",
            "{'_id': 102, 'name': 'Mercedez Garduno'}\n",
            "{'_id': 104, 'name': 'Brittny Warwick'}\n",
            "{'_id': 105, 'name': 'Shin Allbright'}\n",
            "{'_id': 108, 'name': 'Mikaela Meidinger'}\n",
            "{'_id': 109, 'name': 'Flora Duell'}\n",
            "{'_id': 110, 'name': 'Nobuko Linzey'}\n",
            "{'_id': 111, 'name': 'Gennie Ratner'}\n",
            "{'_id': 116, 'name': 'Corliss Zuk'}\n",
            "{'_id': 118, 'name': 'Zachary Langlais'}\n",
            "{'_id': 119, 'name': 'Wilburn Spiess'}\n",
            "{'_id': 126, 'name': 'Quincy Danaher'}\n",
            "{'_id': 127, 'name': 'Jessika Dagenais'}\n",
            "{'_id': 129, 'name': 'Tambra Mercure'}\n",
            "{'_id': 130, 'name': 'Dodie Staller'}\n",
            "{'_id': 141, 'name': 'Edgar Sarkis'}\n",
            "{'_id': 159, 'name': 'Terica Brugger'}\n",
            "{'_id': 166, 'name': 'Tawana Oberg'}\n",
            "{'_id': 167, 'name': 'Malisa Jeanes'}\n",
            "{'_id': 169, 'name': 'Tresa Sinha'}\n",
            "{'_id': 174, 'name': 'Dusti Lemmond'}\n",
            "{'_id': 182, 'name': 'Jenise Mcguffie'}\n",
            "{'_id': 184, 'name': 'Harriett Velarde'}\n",
            "{'_id': 185, 'name': 'Kam Senters'}\n",
            "{'_id': 188, 'name': 'Leola Lundin'}\n",
            "{'_id': 190, 'name': 'Adrien Renda'}\n",
            "{'_id': 191, 'name': 'Efrain Claw'}\n",
            "{'_id': 193, 'name': 'Mariela Sherer'}\n"
          ]
        }
      ],
      "source": [
        "# list of students who passed in all three category\n",
        "\n",
        "A= records.find({\"scores.0.score\": {\"$gt\": 40}, \"scores.1.score\": {\"$gt\": 40}, \"scores.2.score\": {\"$gt\": 40}}, {\"_id\": 1, \"name\":1})\n",
        "for i in A:\n",
        "  print(i)"
      ]
    },
    {
      "cell_type": "markdown",
      "metadata": {
        "id": "QxQU-pX_IL6t"
      },
      "source": [
        "4). Find the total and average of the exam, quiz and homework and store them in a separate collection."
      ]
    },
    {
      "cell_type": "code",
      "execution_count": 24,
      "metadata": {
        "colab": {
          "base_uri": "https://localhost:8080/"
        },
        "id": "lJpjZu3Vk3Wp",
        "outputId": "dbacc5e3-7566-43d3-a34c-73230b6c64c4"
      },
      "outputs": [
        {
          "ename": "DuplicateKeyError",
          "evalue": "E11000 duplicate key error collection: Student_data.collection_sum_avg index: _id_ dup key: { _id: 1 }, full error: {'index': 0, 'code': 11000, 'keyPattern': {'_id': 1}, 'keyValue': {'_id': 1}, 'errmsg': 'E11000 duplicate key error collection: Student_data.collection_sum_avg index: _id_ dup key: { _id: 1 }'}",
          "output_type": "error",
          "traceback": [
            "\u001b[1;31m---------------------------------------------------------------------------\u001b[0m",
            "\u001b[1;31mDuplicateKeyError\u001b[0m                         Traceback (most recent call last)",
            "\u001b[1;32m~\\AppData\\Local\\Temp\\ipykernel_14464\\1922771901.py\u001b[0m in \u001b[0;36m<cell line: 30>\u001b[1;34m()\u001b[0m\n\u001b[0;32m     28\u001b[0m }\n\u001b[0;32m     29\u001b[0m \u001b[1;33m\u001b[0m\u001b[0m\n\u001b[1;32m---> 30\u001b[1;33m \u001b[0mdb\u001b[0m\u001b[1;33m.\u001b[0m\u001b[0mcollection_sum_avg\u001b[0m\u001b[1;33m.\u001b[0m\u001b[0minsert_one\u001b[0m\u001b[1;33m(\u001b[0m\u001b[0mcollection_sum_avg\u001b[0m\u001b[1;33m)\u001b[0m\u001b[1;33m\u001b[0m\u001b[1;33m\u001b[0m\u001b[0m\n\u001b[0m",
            "\u001b[1;32mc:\\Python310\\lib\\site-packages\\pymongo\\collection.py\u001b[0m in \u001b[0;36minsert_one\u001b[1;34m(self, document, bypass_document_validation, session, comment)\u001b[0m\n\u001b[0;32m    619\u001b[0m         \u001b[0mwrite_concern\u001b[0m \u001b[1;33m=\u001b[0m \u001b[0mself\u001b[0m\u001b[1;33m.\u001b[0m\u001b[0m_write_concern_for\u001b[0m\u001b[1;33m(\u001b[0m\u001b[0msession\u001b[0m\u001b[1;33m)\u001b[0m\u001b[1;33m\u001b[0m\u001b[1;33m\u001b[0m\u001b[0m\n\u001b[0;32m    620\u001b[0m         return InsertOneResult(\n\u001b[1;32m--> 621\u001b[1;33m             self._insert_one(\n\u001b[0m\u001b[0;32m    622\u001b[0m                 \u001b[0mdocument\u001b[0m\u001b[1;33m,\u001b[0m\u001b[1;33m\u001b[0m\u001b[1;33m\u001b[0m\u001b[0m\n\u001b[0;32m    623\u001b[0m                 \u001b[0mordered\u001b[0m\u001b[1;33m=\u001b[0m\u001b[1;32mTrue\u001b[0m\u001b[1;33m,\u001b[0m\u001b[1;33m\u001b[0m\u001b[1;33m\u001b[0m\u001b[0m\n",
            "\u001b[1;32mc:\\Python310\\lib\\site-packages\\pymongo\\collection.py\u001b[0m in \u001b[0;36m_insert_one\u001b[1;34m(self, doc, ordered, write_concern, op_id, bypass_doc_val, session, comment)\u001b[0m\n\u001b[0;32m    560\u001b[0m             \u001b[0m_check_write_command_response\u001b[0m\u001b[1;33m(\u001b[0m\u001b[0mresult\u001b[0m\u001b[1;33m)\u001b[0m\u001b[1;33m\u001b[0m\u001b[1;33m\u001b[0m\u001b[0m\n\u001b[0;32m    561\u001b[0m \u001b[1;33m\u001b[0m\u001b[0m\n\u001b[1;32m--> 562\u001b[1;33m         \u001b[0mself\u001b[0m\u001b[1;33m.\u001b[0m\u001b[0m__database\u001b[0m\u001b[1;33m.\u001b[0m\u001b[0mclient\u001b[0m\u001b[1;33m.\u001b[0m\u001b[0m_retryable_write\u001b[0m\u001b[1;33m(\u001b[0m\u001b[0macknowledged\u001b[0m\u001b[1;33m,\u001b[0m \u001b[0m_insert_command\u001b[0m\u001b[1;33m,\u001b[0m \u001b[0msession\u001b[0m\u001b[1;33m)\u001b[0m\u001b[1;33m\u001b[0m\u001b[1;33m\u001b[0m\u001b[0m\n\u001b[0m\u001b[0;32m    563\u001b[0m \u001b[1;33m\u001b[0m\u001b[0m\n\u001b[0;32m    564\u001b[0m         \u001b[1;32mif\u001b[0m \u001b[1;32mnot\u001b[0m \u001b[0misinstance\u001b[0m\u001b[1;33m(\u001b[0m\u001b[0mdoc\u001b[0m\u001b[1;33m,\u001b[0m \u001b[0mRawBSONDocument\u001b[0m\u001b[1;33m)\u001b[0m\u001b[1;33m:\u001b[0m\u001b[1;33m\u001b[0m\u001b[1;33m\u001b[0m\u001b[0m\n",
            "\u001b[1;32mc:\\Python310\\lib\\site-packages\\pymongo\\mongo_client.py\u001b[0m in \u001b[0;36m_retryable_write\u001b[1;34m(self, retryable, func, session)\u001b[0m\n\u001b[0;32m   1446\u001b[0m         \u001b[1;34m\"\"\"Internal retryable write helper.\"\"\"\u001b[0m\u001b[1;33m\u001b[0m\u001b[1;33m\u001b[0m\u001b[0m\n\u001b[0;32m   1447\u001b[0m         \u001b[1;32mwith\u001b[0m \u001b[0mself\u001b[0m\u001b[1;33m.\u001b[0m\u001b[0m_tmp_session\u001b[0m\u001b[1;33m(\u001b[0m\u001b[0msession\u001b[0m\u001b[1;33m)\u001b[0m \u001b[1;32mas\u001b[0m \u001b[0ms\u001b[0m\u001b[1;33m:\u001b[0m\u001b[1;33m\u001b[0m\u001b[1;33m\u001b[0m\u001b[0m\n\u001b[1;32m-> 1448\u001b[1;33m             \u001b[1;32mreturn\u001b[0m \u001b[0mself\u001b[0m\u001b[1;33m.\u001b[0m\u001b[0m_retry_with_session\u001b[0m\u001b[1;33m(\u001b[0m\u001b[0mretryable\u001b[0m\u001b[1;33m,\u001b[0m \u001b[0mfunc\u001b[0m\u001b[1;33m,\u001b[0m \u001b[0ms\u001b[0m\u001b[1;33m,\u001b[0m \u001b[1;32mNone\u001b[0m\u001b[1;33m)\u001b[0m\u001b[1;33m\u001b[0m\u001b[1;33m\u001b[0m\u001b[0m\n\u001b[0m\u001b[0;32m   1449\u001b[0m \u001b[1;33m\u001b[0m\u001b[0m\n\u001b[0;32m   1450\u001b[0m     \u001b[1;32mdef\u001b[0m \u001b[0m__eq__\u001b[0m\u001b[1;33m(\u001b[0m\u001b[0mself\u001b[0m\u001b[1;33m,\u001b[0m \u001b[0mother\u001b[0m\u001b[1;33m:\u001b[0m \u001b[0mAny\u001b[0m\u001b[1;33m)\u001b[0m \u001b[1;33m->\u001b[0m \u001b[0mbool\u001b[0m\u001b[1;33m:\u001b[0m\u001b[1;33m\u001b[0m\u001b[1;33m\u001b[0m\u001b[0m\n",
            "\u001b[1;32mc:\\Python310\\lib\\site-packages\\pymongo\\mongo_client.py\u001b[0m in \u001b[0;36m_retry_with_session\u001b[1;34m(self, retryable, func, session, bulk)\u001b[0m\n\u001b[0;32m   1319\u001b[0m             \u001b[0mretryable\u001b[0m \u001b[1;32mand\u001b[0m \u001b[0mself\u001b[0m\u001b[1;33m.\u001b[0m\u001b[0moptions\u001b[0m\u001b[1;33m.\u001b[0m\u001b[0mretry_writes\u001b[0m \u001b[1;32mand\u001b[0m \u001b[0msession\u001b[0m \u001b[1;32mand\u001b[0m \u001b[1;32mnot\u001b[0m \u001b[0msession\u001b[0m\u001b[1;33m.\u001b[0m\u001b[0min_transaction\u001b[0m\u001b[1;33m\u001b[0m\u001b[1;33m\u001b[0m\u001b[0m\n\u001b[0;32m   1320\u001b[0m         )\n\u001b[1;32m-> 1321\u001b[1;33m         \u001b[1;32mreturn\u001b[0m \u001b[0mself\u001b[0m\u001b[1;33m.\u001b[0m\u001b[0m_retry_internal\u001b[0m\u001b[1;33m(\u001b[0m\u001b[0mretryable\u001b[0m\u001b[1;33m,\u001b[0m \u001b[0mfunc\u001b[0m\u001b[1;33m,\u001b[0m \u001b[0msession\u001b[0m\u001b[1;33m,\u001b[0m \u001b[0mbulk\u001b[0m\u001b[1;33m)\u001b[0m\u001b[1;33m\u001b[0m\u001b[1;33m\u001b[0m\u001b[0m\n\u001b[0m\u001b[0;32m   1322\u001b[0m \u001b[1;33m\u001b[0m\u001b[0m\n\u001b[0;32m   1323\u001b[0m     \u001b[1;33m@\u001b[0m\u001b[0m_csot\u001b[0m\u001b[1;33m.\u001b[0m\u001b[0mapply\u001b[0m\u001b[1;33m\u001b[0m\u001b[1;33m\u001b[0m\u001b[0m\n",
            "\u001b[1;32mc:\\Python310\\lib\\site-packages\\pymongo\\_csot.py\u001b[0m in \u001b[0;36mcsot_wrapper\u001b[1;34m(self, *args, **kwargs)\u001b[0m\n\u001b[0;32m    103\u001b[0m                 \u001b[1;32mwith\u001b[0m \u001b[0m_TimeoutContext\u001b[0m\u001b[1;33m(\u001b[0m\u001b[0mtimeout\u001b[0m\u001b[1;33m)\u001b[0m\u001b[1;33m:\u001b[0m\u001b[1;33m\u001b[0m\u001b[1;33m\u001b[0m\u001b[0m\n\u001b[0;32m    104\u001b[0m                     \u001b[1;32mreturn\u001b[0m \u001b[0mfunc\u001b[0m\u001b[1;33m(\u001b[0m\u001b[0mself\u001b[0m\u001b[1;33m,\u001b[0m \u001b[1;33m*\u001b[0m\u001b[0margs\u001b[0m\u001b[1;33m,\u001b[0m \u001b[1;33m**\u001b[0m\u001b[0mkwargs\u001b[0m\u001b[1;33m)\u001b[0m\u001b[1;33m\u001b[0m\u001b[1;33m\u001b[0m\u001b[0m\n\u001b[1;32m--> 105\u001b[1;33m         \u001b[1;32mreturn\u001b[0m \u001b[0mfunc\u001b[0m\u001b[1;33m(\u001b[0m\u001b[0mself\u001b[0m\u001b[1;33m,\u001b[0m \u001b[1;33m*\u001b[0m\u001b[0margs\u001b[0m\u001b[1;33m,\u001b[0m \u001b[1;33m**\u001b[0m\u001b[0mkwargs\u001b[0m\u001b[1;33m)\u001b[0m\u001b[1;33m\u001b[0m\u001b[1;33m\u001b[0m\u001b[0m\n\u001b[0m\u001b[0;32m    106\u001b[0m \u001b[1;33m\u001b[0m\u001b[0m\n\u001b[0;32m    107\u001b[0m     \u001b[1;32mreturn\u001b[0m \u001b[0mcast\u001b[0m\u001b[1;33m(\u001b[0m\u001b[0mF\u001b[0m\u001b[1;33m,\u001b[0m \u001b[0mcsot_wrapper\u001b[0m\u001b[1;33m)\u001b[0m\u001b[1;33m\u001b[0m\u001b[1;33m\u001b[0m\u001b[0m\n",
            "\u001b[1;32mc:\\Python310\\lib\\site-packages\\pymongo\\mongo_client.py\u001b[0m in \u001b[0;36m_retry_internal\u001b[1;34m(self, retryable, func, session, bulk)\u001b[0m\n\u001b[0;32m   1360\u001b[0m                             \u001b[1;32mraise\u001b[0m \u001b[0mlast_error\u001b[0m\u001b[1;33m\u001b[0m\u001b[1;33m\u001b[0m\u001b[0m\n\u001b[0;32m   1361\u001b[0m                         \u001b[0mretryable\u001b[0m \u001b[1;33m=\u001b[0m \u001b[1;32mFalse\u001b[0m\u001b[1;33m\u001b[0m\u001b[1;33m\u001b[0m\u001b[0m\n\u001b[1;32m-> 1362\u001b[1;33m                     \u001b[1;32mreturn\u001b[0m \u001b[0mfunc\u001b[0m\u001b[1;33m(\u001b[0m\u001b[0msession\u001b[0m\u001b[1;33m,\u001b[0m \u001b[0msock_info\u001b[0m\u001b[1;33m,\u001b[0m \u001b[0mretryable\u001b[0m\u001b[1;33m)\u001b[0m\u001b[1;33m\u001b[0m\u001b[1;33m\u001b[0m\u001b[0m\n\u001b[0m\u001b[0;32m   1363\u001b[0m             \u001b[1;32mexcept\u001b[0m \u001b[0mServerSelectionTimeoutError\u001b[0m\u001b[1;33m:\u001b[0m\u001b[1;33m\u001b[0m\u001b[1;33m\u001b[0m\u001b[0m\n\u001b[0;32m   1364\u001b[0m                 \u001b[1;32mif\u001b[0m \u001b[0mis_retrying\u001b[0m\u001b[1;33m(\u001b[0m\u001b[1;33m)\u001b[0m\u001b[1;33m:\u001b[0m\u001b[1;33m\u001b[0m\u001b[1;33m\u001b[0m\u001b[0m\n",
            "\u001b[1;32mc:\\Python310\\lib\\site-packages\\pymongo\\collection.py\u001b[0m in \u001b[0;36m_insert_command\u001b[1;34m(session, sock_info, retryable_write)\u001b[0m\n\u001b[0;32m    558\u001b[0m             )\n\u001b[0;32m    559\u001b[0m \u001b[1;33m\u001b[0m\u001b[0m\n\u001b[1;32m--> 560\u001b[1;33m             \u001b[0m_check_write_command_response\u001b[0m\u001b[1;33m(\u001b[0m\u001b[0mresult\u001b[0m\u001b[1;33m)\u001b[0m\u001b[1;33m\u001b[0m\u001b[1;33m\u001b[0m\u001b[0m\n\u001b[0m\u001b[0;32m    561\u001b[0m \u001b[1;33m\u001b[0m\u001b[0m\n\u001b[0;32m    562\u001b[0m         \u001b[0mself\u001b[0m\u001b[1;33m.\u001b[0m\u001b[0m__database\u001b[0m\u001b[1;33m.\u001b[0m\u001b[0mclient\u001b[0m\u001b[1;33m.\u001b[0m\u001b[0m_retryable_write\u001b[0m\u001b[1;33m(\u001b[0m\u001b[0macknowledged\u001b[0m\u001b[1;33m,\u001b[0m \u001b[0m_insert_command\u001b[0m\u001b[1;33m,\u001b[0m \u001b[0msession\u001b[0m\u001b[1;33m)\u001b[0m\u001b[1;33m\u001b[0m\u001b[1;33m\u001b[0m\u001b[0m\n",
            "\u001b[1;32mc:\\Python310\\lib\\site-packages\\pymongo\\helpers.py\u001b[0m in \u001b[0;36m_check_write_command_response\u001b[1;34m(result)\u001b[0m\n\u001b[0;32m    215\u001b[0m     \u001b[0mwrite_errors\u001b[0m \u001b[1;33m=\u001b[0m \u001b[0mresult\u001b[0m\u001b[1;33m.\u001b[0m\u001b[0mget\u001b[0m\u001b[1;33m(\u001b[0m\u001b[1;34m\"writeErrors\"\u001b[0m\u001b[1;33m)\u001b[0m\u001b[1;33m\u001b[0m\u001b[1;33m\u001b[0m\u001b[0m\n\u001b[0;32m    216\u001b[0m     \u001b[1;32mif\u001b[0m \u001b[0mwrite_errors\u001b[0m\u001b[1;33m:\u001b[0m\u001b[1;33m\u001b[0m\u001b[1;33m\u001b[0m\u001b[0m\n\u001b[1;32m--> 217\u001b[1;33m         \u001b[0m_raise_last_write_error\u001b[0m\u001b[1;33m(\u001b[0m\u001b[0mwrite_errors\u001b[0m\u001b[1;33m)\u001b[0m\u001b[1;33m\u001b[0m\u001b[1;33m\u001b[0m\u001b[0m\n\u001b[0m\u001b[0;32m    218\u001b[0m \u001b[1;33m\u001b[0m\u001b[0m\n\u001b[0;32m    219\u001b[0m     \u001b[0mwce\u001b[0m \u001b[1;33m=\u001b[0m \u001b[0m_get_wce_doc\u001b[0m\u001b[1;33m(\u001b[0m\u001b[0mresult\u001b[0m\u001b[1;33m)\u001b[0m\u001b[1;33m\u001b[0m\u001b[1;33m\u001b[0m\u001b[0m\n",
            "\u001b[1;32mc:\\Python310\\lib\\site-packages\\pymongo\\helpers.py\u001b[0m in \u001b[0;36m_raise_last_write_error\u001b[1;34m(write_errors)\u001b[0m\n\u001b[0;32m    187\u001b[0m     \u001b[0merror\u001b[0m \u001b[1;33m=\u001b[0m \u001b[0mwrite_errors\u001b[0m\u001b[1;33m[\u001b[0m\u001b[1;33m-\u001b[0m\u001b[1;36m1\u001b[0m\u001b[1;33m]\u001b[0m\u001b[1;33m\u001b[0m\u001b[1;33m\u001b[0m\u001b[0m\n\u001b[0;32m    188\u001b[0m     \u001b[1;32mif\u001b[0m \u001b[0merror\u001b[0m\u001b[1;33m.\u001b[0m\u001b[0mget\u001b[0m\u001b[1;33m(\u001b[0m\u001b[1;34m\"code\"\u001b[0m\u001b[1;33m)\u001b[0m \u001b[1;33m==\u001b[0m \u001b[1;36m11000\u001b[0m\u001b[1;33m:\u001b[0m\u001b[1;33m\u001b[0m\u001b[1;33m\u001b[0m\u001b[0m\n\u001b[1;32m--> 189\u001b[1;33m         \u001b[1;32mraise\u001b[0m \u001b[0mDuplicateKeyError\u001b[0m\u001b[1;33m(\u001b[0m\u001b[0merror\u001b[0m\u001b[1;33m.\u001b[0m\u001b[0mget\u001b[0m\u001b[1;33m(\u001b[0m\u001b[1;34m\"errmsg\"\u001b[0m\u001b[1;33m)\u001b[0m\u001b[1;33m,\u001b[0m \u001b[1;36m11000\u001b[0m\u001b[1;33m,\u001b[0m \u001b[0merror\u001b[0m\u001b[1;33m)\u001b[0m\u001b[1;33m\u001b[0m\u001b[1;33m\u001b[0m\u001b[0m\n\u001b[0m\u001b[0;32m    190\u001b[0m     \u001b[1;32mraise\u001b[0m \u001b[0mWriteError\u001b[0m\u001b[1;33m(\u001b[0m\u001b[0merror\u001b[0m\u001b[1;33m.\u001b[0m\u001b[0mget\u001b[0m\u001b[1;33m(\u001b[0m\u001b[1;34m\"errmsg\"\u001b[0m\u001b[1;33m)\u001b[0m\u001b[1;33m,\u001b[0m \u001b[0merror\u001b[0m\u001b[1;33m.\u001b[0m\u001b[0mget\u001b[0m\u001b[1;33m(\u001b[0m\u001b[1;34m\"code\"\u001b[0m\u001b[1;33m)\u001b[0m\u001b[1;33m,\u001b[0m \u001b[0merror\u001b[0m\u001b[1;33m)\u001b[0m\u001b[1;33m\u001b[0m\u001b[1;33m\u001b[0m\u001b[0m\n\u001b[0;32m    191\u001b[0m \u001b[1;33m\u001b[0m\u001b[0m\n",
            "\u001b[1;31mDuplicateKeyError\u001b[0m: E11000 duplicate key error collection: Student_data.collection_sum_avg index: _id_ dup key: { _id: 1 }, full error: {'index': 0, 'code': 11000, 'keyPattern': {'_id': 1}, 'keyValue': {'_id': 1}, 'errmsg': 'E11000 duplicate key error collection: Student_data.collection_sum_avg index: _id_ dup key: { _id: 1 }'}"
          ]
        }
      ],
      "source": [
        "total_exam=0\n",
        "avg_exam=0\n",
        "total_quiz=0\n",
        "avg_quiz=0\n",
        "total_hw=0\n",
        "avg_hw=0\n",
        "for x in records.find({'scores.type':'exam'},{'name':1,'scores.score':1}):\n",
        "  y=(x['scores'][0])\n",
        "  total_exam+= y['score']\n",
        "  avg_exam=(total_exam/200)\n",
        "\n",
        "for x in records.find({'scores.type':'exam'},{'name':1,'scores.score':1}):\n",
        "  y=(x['scores'][1])\n",
        "  total_quiz+= y['score']\n",
        "  avg_quiz=(total_quiz/200)\n",
        "\n",
        "for x in records.find({'scores.type':'exam'},{'name':1,'scores.score':1}):\n",
        "  y=(x['scores'][2])\n",
        "  total_hw+= y['score']\n",
        "  avg_hw=(total_hw/200)\n",
        "\n",
        "Collection_sum_avg={\n",
        "    \"_id\":1,\n",
        "    \"Total\":{\"exam\":total_exam,\"quiz\":total_quiz,\"homework\":total_hw},\n",
        "    \"Average\":{\"exam\":avg_exam,\"quiz\":avg_quiz,\"homework\":avg_hw}\n",
        "    }\n",
        "\n",
        "db.collection_sum_avg.insert_one(Collection_sum_avg)"
      ]
    },
    {
      "cell_type": "code",
      "execution_count": null,
      "metadata": {
        "colab": {
          "base_uri": "https://localhost:8080/"
        },
        "id": "sbdF4gCYnSu-",
        "outputId": "ec612378-ba18-4003-fcd8-d4d8278a84ef"
      },
      "outputs": [
        {
          "data": {
            "text/plain": [
              "{'_id': 1,\n",
              " 'Total': {'exam': 9734.734151900355,\n",
              "  'quiz': 9799.34463886051,\n",
              "  'homework': 13563.739241322293},\n",
              " 'Average': {'exam': 48.673670759501775,\n",
              "  'quiz': 48.99672319430255,\n",
              "  'homework': 67.81869620661146}}"
            ]
          },
          "execution_count": 15,
          "metadata": {},
          "output_type": "execute_result"
        }
      ],
      "source": [
        "x=db.collection_sum_avg.find_one({\"_id\":1},{})\n",
        "x"
      ]
    },
    {
      "cell_type": "markdown",
      "metadata": {
        "id": "xv63ec9XP4sF"
      },
      "source": [
        "5). New collection which consists of students who scored below average and above 40% in all the categories."
      ]
    },
    {
      "cell_type": "code",
      "execution_count": null,
      "metadata": {
        "colab": {
          "base_uri": "https://localhost:8080/"
        },
        "id": "zsAcBlOSK-v3",
        "outputId": "fae7b0d4-a5a1-4fc4-eb59-deaeaef73019"
      },
      "outputs": [
        {
          "data": {
            "text/plain": [
              "<pymongo.results.InsertOneResult at 0x18c3ad67130>"
            ]
          },
          "execution_count": 16,
          "metadata": {},
          "output_type": "execute_result"
        }
      ],
      "source": [
        "out_exam=[]\n",
        "out_quiz=[]\n",
        "out_hw=[]\n",
        "\n",
        "for x in records.find({'scores.type':'exam'},{'_id':1,'name':1,'scores.score':1}):\n",
        "  y=(x['scores'][0])\n",
        "  if 40<y['score']<48.673670759501775:\n",
        "    out_exam.append(x['name'])\n",
        "\n",
        "\n",
        "for x in records.find({'scores.type':'exam'},{'_id':1,'name':1,'scores.score':1}):\n",
        "  y=(x['scores'][1])\n",
        "  if 40<y['score']<48.99672319430255:\n",
        "    out_quiz.append(x['name'])\n",
        "\n",
        "for x in records.find({'scores.type':'exam'},{'_id':1,'name':1,'scores.score':1}):\n",
        "  y=(x['scores'][2])\n",
        "  if 40<y['score']<67.81869620661146:\n",
        "    out_hw.append(x['name'])\n",
        "\n",
        "Coll={\"_id\":1,\"collection2\":\"students scored below average and above 40%\",\n",
        "             \"student_list\":{\"exam\":out_exam,\"quiz\":out_quiz,\"homework\":out_hw}}\n",
        "\n",
        "db.belowavg_abovepass.insert_one(Coll)"
      ]
    },
    {
      "cell_type": "code",
      "execution_count": null,
      "metadata": {
        "colab": {
          "base_uri": "https://localhost:8080/"
        },
        "id": "G9ZpSQV9OyvO",
        "outputId": "faebf532-ad13-42d6-c775-665fc1f319a0"
      },
      "outputs": [
        {
          "name": "stdout",
          "output_type": "stream",
          "text": [
            "{'_id': 1, 'collection2': 'students scored below average and above 40%', 'student_list': {'exam': ['Wilburn Spiess', 'Denisha Cast', 'Gisela Levin', 'Tressa Schwing', 'Rosana Vales', 'Tamika Schildgen', 'Gwyneth Garling', 'Kayce Kenyon', 'Terica Brugger', 'Chad Rahe', 'Jenise Mcguffie', 'Cassi Heal', 'Demarcus Audette', 'Flora Duell', 'Quincy Danaher', 'Alix Sherrill', 'Laureen Salomone', 'Gwyneth Garling', 'Aleida Elsass', 'Alica Pasley', 'Malisa Jeanes', 'Harriett Velarde', 'Mariela Sherer'], 'quiz': ['Salena Olmos', 'Terica Brugger', 'Danika Loeffler', 'Joaquina Arbuckle', 'Rubie Winton', 'Brain Lachapelle', 'Osvaldo Hirt', 'Demarcus Audette', 'Mercedez Garduno', 'Karry Petrarca', 'Flora Duell', 'Salena Olmos', 'Tambra Mercure', 'Verdell Sowinski', 'Sadie Jernigan', 'Elizabet Kleine', 'Kam Senters', 'Leola Lundin', 'Mariela Sherer'], 'homework': ['Corliss Zuk', 'Bao Ziglar', 'Wilburn Spiess', 'Denisha Cast', 'Tambra Mercure', 'Jesusa Rickenbacker', 'Jonie Raby', 'Kaila Deibler', 'Eugene Magdaleno', 'Richelle Siemers', 'Mariette Batdorf', 'Lady Lefevers', 'Alica Pasley', 'Joel Rueter', 'Danika Loeffler', 'Joaquina Arbuckle', 'Vina Matsunaga', 'Gena Riccio', 'Kim Xu', 'Jenise Mcguffie', 'Harriett Velarde', 'Devorah Smartt', 'Tonia Surace', 'Tonisha Games', 'Rae Kohout', 'Toshiko Sabella', 'Cassi Heal', 'Ta Sikorski', 'Maren Scheider', 'Jaclyn Morado', 'Nobuko Linzey', 'Gennie Ratner', '', 'Bao Ziglar', 'Wilburn Spiess', 'Jenette Flanders', 'Salena Olmos', 'Sanda Ryba', 'Marcus Blohm', 'Dodie Staller', 'Rosana Vales', 'Margart Vitello', 'Tandra Meadows', 'Synthia Labelle', 'Mariette Batdorf', 'Rachell Aman', 'Ernestine Macfarland', 'Terica Brugger', 'Kurtis Jiles', 'Barbera Lippman', 'Dinah Sauve', 'Elizabet Kleine', 'Tawana Oberg', 'Joel Rueter', 'Dusti Lemmond', 'Vina Matsunaga', 'Kim Xu', 'Merissa Mann', 'Devorah Smartt', 'Len Treiber', 'Timothy Harrod']}}\n"
          ]
        }
      ],
      "source": [
        "C=db.belowavg_abovepass.find_one()\n",
        "print(C)"
      ]
    },
    {
      "cell_type": "markdown",
      "metadata": {
        "id": "dcsF51nKQ1im"
      },
      "source": [
        "6). A new collection which consists of students who scored above pass mark in all the categories."
      ]
    },
    {
      "cell_type": "code",
      "execution_count": null,
      "metadata": {
        "id": "BMRGrDieQJsD"
      },
      "outputs": [],
      "source": [
        "# list of students who passed in all three category\n",
        "\n",
        "A= records.find({\"scores.0.score\": {\"$gt\": 40}, \"scores.1.score\": {\"$gt\": 40}, \"scores.2.score\": {\"$gt\": 40}}, {\"_id\": 1, \"name\":1})\n",
        "for i in A:\n",
        "  db.passed.insert_one(i)"
      ]
    },
    {
      "cell_type": "code",
      "execution_count": null,
      "metadata": {
        "colab": {
          "base_uri": "https://localhost:8080/"
        },
        "id": "E7iKhLBURabP",
        "outputId": "80e4a4fe-795c-49f6-dfe2-0b96c92c8f40"
      },
      "outputs": [
        {
          "name": "stdout",
          "output_type": "stream",
          "text": [
            "{'_id': 1, 'name': 'Aurelia Menendez'}\n",
            "{'_id': 7, 'name': 'Salena Olmos'}\n",
            "{'_id': 10, 'name': 'Denisha Cast'}\n",
            "{'_id': 11, 'name': 'Marcus Blohm'}\n",
            "{'_id': 12, 'name': 'Quincy Danaher'}\n",
            "{'_id': 13, 'name': 'Jessika Dagenais'}\n",
            "{'_id': 18, 'name': 'Verdell Sowinski'}\n",
            "{'_id': 20, 'name': 'Tressa Schwing'}\n",
            "{'_id': 23, 'name': 'Tamika Schildgen'}\n",
            "{'_id': 32, 'name': 'Gwen Honig'}\n",
            "{'_id': 36, 'name': 'Eugene Magdaleno'}\n",
            "{'_id': 52, 'name': 'Tawana Oberg'}\n",
            "{'_id': 54, 'name': 'Joel Rueter'}\n",
            "{'_id': 55, 'name': 'Tresa Sinha'}\n",
            "{'_id': 61, 'name': 'Grady Zemke'}\n",
            "{'_id': 64, 'name': 'Whitley Fears'}\n",
            "{'_id': 65, 'name': 'Gena Riccio'}\n",
            "{'_id': 67, 'name': 'Merissa Mann'}\n",
            "{'_id': 68, 'name': 'Jenise Mcguffie'}\n",
            "{'_id': 75, 'name': 'Tonia Surace'}\n",
            "{'_id': 79, 'name': 'Mariela Sherer'}\n",
            "{'_id': 84, 'name': 'Timothy Harrod'}\n",
            "{'_id': 85, 'name': 'Rae Kohout'}\n",
            "{'_id': 90, 'name': 'Osvaldo Hirt'}\n",
            "{'_id': 97, 'name': 'Maren Scheider'}\n",
            "{'_id': 98, 'name': 'Carli Ector'}\n",
            "{'_id': 99, 'name': 'Jaclyn Morado'}\n",
            "{'_id': 102, 'name': 'Mercedez Garduno'}\n",
            "{'_id': 104, 'name': 'Brittny Warwick'}\n",
            "{'_id': 105, 'name': 'Shin Allbright'}\n",
            "{'_id': 108, 'name': 'Mikaela Meidinger'}\n",
            "{'_id': 109, 'name': 'Flora Duell'}\n",
            "{'_id': 110, 'name': 'Nobuko Linzey'}\n",
            "{'_id': 111, 'name': 'Gennie Ratner'}\n",
            "{'_id': 116, 'name': 'Corliss Zuk'}\n",
            "{'_id': 118, 'name': 'Zachary Langlais'}\n",
            "{'_id': 119, 'name': 'Wilburn Spiess'}\n",
            "{'_id': 126, 'name': 'Quincy Danaher'}\n",
            "{'_id': 127, 'name': 'Jessika Dagenais'}\n",
            "{'_id': 129, 'name': 'Tambra Mercure'}\n",
            "{'_id': 130, 'name': 'Dodie Staller'}\n",
            "{'_id': 141, 'name': 'Edgar Sarkis'}\n",
            "{'_id': 159, 'name': 'Terica Brugger'}\n",
            "{'_id': 166, 'name': 'Tawana Oberg'}\n",
            "{'_id': 167, 'name': 'Malisa Jeanes'}\n",
            "{'_id': 169, 'name': 'Tresa Sinha'}\n",
            "{'_id': 174, 'name': 'Dusti Lemmond'}\n",
            "{'_id': 182, 'name': 'Jenise Mcguffie'}\n",
            "{'_id': 184, 'name': 'Harriett Velarde'}\n",
            "{'_id': 185, 'name': 'Kam Senters'}\n",
            "{'_id': 188, 'name': 'Leola Lundin'}\n",
            "{'_id': 190, 'name': 'Adrien Renda'}\n",
            "{'_id': 191, 'name': 'Efrain Claw'}\n",
            "{'_id': 193, 'name': 'Mariela Sherer'}\n"
          ]
        }
      ],
      "source": [
        "for i in db.passed.find():\n",
        "  print(i)"
      ]
    },
    {
      "cell_type": "code",
      "execution_count": null,
      "metadata": {},
      "outputs": [],
      "source": []
    }
  ],
  "metadata": {
    "colab": {
      "authorship_tag": "ABX9TyOeOe3HwsrRoQSr4uqV4SoK",
      "collapsed_sections": [],
      "include_colab_link": true,
      "name": "Untitled0.ipynb",
      "provenance": []
    },
    "kernelspec": {
      "display_name": "Python 3",
      "name": "python3"
    },
    "language_info": {
      "codemirror_mode": {
        "name": "ipython",
        "version": 3
      },
      "file_extension": ".py",
      "mimetype": "text/x-python",
      "name": "python",
      "nbconvert_exporter": "python",
      "pygments_lexer": "ipython3",
      "version": "3.10.5"
    }
  },
  "nbformat": 4,
  "nbformat_minor": 0
}
