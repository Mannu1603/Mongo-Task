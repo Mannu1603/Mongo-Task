{
  "cells": [
    {
      "cell_type": "markdown",
      "metadata": {
        "colab_type": "text",
        "id": "view-in-github"
      },
      "source": [
        "<a href=\"https://colab.research.google.com/github/Dtyagi12/MONGODB_TASK/blob/main/phonebookGUVI.ipynb\" target=\"_parent\"><img src=\"https://colab.research.google.com/assets/colab-badge.svg\" alt=\"Open In Colab\"/></a>"
      ]
    },
    {
      "cell_type": "code",
      "execution_count": null,
      "metadata": {
        "id": "3fQs94JTtOQM"
      },
      "outputs": [],
      "source": [
        "# !pip install dnspython\n",
        "# !pip install pymongo[srv]"
      ]
    },
    {
      "cell_type": "code",
      "execution_count": 2,
      "metadata": {
        "colab": {
          "base_uri": "https://localhost:8080/"
        },
        "id": "1fIWr_kPtK7o",
        "outputId": "01162b4c-8291-4b93-b500-e3b5b423afb3"
      },
      "outputs": [
        {
          "name": "stdout",
          "output_type": "stream",
          "text": [
            "    Name     Contact       E-mail   Place\n",
            "0  Mannu  8887776665  xyz@dbz.com  Bombay\n",
            "Thank You\n"
          ]
        }
      ],
      "source": [
        "import pandas as pd\n",
        "import pymongo\n",
        "from pymongo import MongoClient\n",
        "\n",
        "client = pymongo.MongoClient(\"mongodb://localhost:27017/\")\n",
        "pb = client.d20\n",
        "phone=pb.phonebook\n",
        "\n",
        "def create_contact():\n",
        "  name=input(\"Enter name: \")\n",
        "  contact=input(\"Enter contact number: \")\n",
        "  if len(contact)!=10:\n",
        "    print(\"Length of Contact should be 10; Try Again\")\n",
        "    create_contact()\n",
        "  mail_id=input(\"Enter E-mail-id: \")\n",
        "  place=input(\"Enter place of person where he lived: \")\n",
        "  a= {\n",
        "    \"Name\": name,\n",
        "    \"Contact\":contact,\n",
        "    \"E-mail\":mail_id,\n",
        "    \"Place\":place,\n",
        "  }\n",
        "\n",
        "  phone.insert_one(a)\n",
        "  print(\"Contact Saved Successfully\")\n",
        "  welcome()\n",
        "\n",
        "def search():\n",
        "  choice=input(\"Search by Name[N] or Number[C] select one[N/C]: \")\n",
        "  if choice==\"N\":\n",
        "    name=input(\"Please enter Name of contact: \")\n",
        "    A={\"Name\": name}\n",
        "    X=phone.find(A,{\"_id\":0, \"Name\":1, \"Contact\":1, \"E-mail\":1, \"Place\":1})\n",
        "    for i in X:\n",
        "      data=([i])\n",
        "      s=pd.DataFrame(data)\n",
        "      print(s)\n",
        "  if choice==\"C\":\n",
        "    number=input(\"Please enter contact number: \")\n",
        "    A={\"Contact\": number}\n",
        "    X=phone.find(A,{\"_id\":0, \"Name\":1, \"Contact\":1, \"E-mail\":1, \"Place\":1})\n",
        "    for i in X:\n",
        "      data=([i])\n",
        "      s1=pd.DataFrame(data)\n",
        "      print(s1)\n",
        "  welcome()\n",
        "\n",
        "def delete():\n",
        "  n=input(\"Enter contact name to delete: \")\n",
        "  Delt={\"Name\": name}\n",
        "  a= phone.delete_one(Delt)\n",
        "  print(a.deleted_count,\"Contact deleted\")\n",
        "  welcome()\n",
        "\n",
        "def contact_list():\n",
        "  li=[]\n",
        "  for x in phone.find({},{\"_id\":0, \"Name\":1, \"Contact\":1, \"E-mail\":1, \"Place\":1}):\n",
        "    li.append(x)\n",
        "  book=pd.DataFrame(li)\n",
        "  print(book)\n",
        "  welcome()\n",
        "\n",
        "def welcome():\n",
        "  I=input(\"Enter your choice Create contact[1], Search contact[2], Delete Contact[3], See whole phonebook[4], EXIT[E]: \")\n",
        "  if I==\"1\":\n",
        "    create_contact()\n",
        "  elif I==\"2\":\n",
        "    search()\n",
        "  elif I==\"3\":\n",
        "    delete()\n",
        "  elif I==\"4\":\n",
        "    contact_list()\n",
        "  elif I==\"E\":\n",
        "    print(\"Thank You\")\n",
        "  else:\n",
        "    print(\"Enter proper Details\")\n",
        "    welcome()\n",
        "welcome()"
      ]
    },
    {
      "cell_type": "code",
      "execution_count": null,
      "metadata": {},
      "outputs": [],
      "source": []
    }
  ],
  "metadata": {
    "colab": {
      "authorship_tag": "ABX9TyPKNfImJcmsqpZavyhyGYUb",
      "include_colab_link": true,
      "name": "projectsGUVI.ipynb",
      "provenance": []
    },
    "kernelspec": {
      "display_name": "Python 3",
      "name": "python3"
    },
    "language_info": {
      "codemirror_mode": {
        "name": "ipython",
        "version": 3
      },
      "file_extension": ".py",
      "mimetype": "text/x-python",
      "name": "python",
      "nbconvert_exporter": "python",
      "pygments_lexer": "ipython3",
      "version": "3.10.5"
    }
  },
  "nbformat": 4,
  "nbformat_minor": 0
}
